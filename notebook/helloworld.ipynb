{
 "cells": [
  {
   "cell_type": "code",
   "execution_count": 1,
   "metadata": {},
   "outputs": [],
   "source": [
    "import json\n",
    "from mixin.mixin_api import MixinApi\n",
    "from mixin.testnet import MixinTestnet\n",
    "api = MixinApi('http://127.0.0.1:8001')"
   ]
  },
  {
   "cell_type": "code",
   "execution_count": 2,
   "metadata": {},
   "outputs": [],
   "source": [
    "testnet = MixinTestnet()\n",
    "testnet.start()"
   ]
  },
  {
   "cell_type": "code",
   "execution_count": 3,
   "metadata": {},
   "outputs": [
    {
     "name": "stderr",
     "output_type": "stream",
     "text": [
      "2021-03-17 16:25:39,874 INFO testnet 186 deposit hash e057fb4b044112f9ddb699128a77394f0f9f6cf39b7f9b2009c4431059143223\n"
     ]
    }
   ],
   "source": [
    "deposit_hash = await testnet.deposit()"
   ]
  },
  {
   "cell_type": "code",
   "execution_count": 4,
   "metadata": {},
   "outputs": [
    {
     "data": {
      "text/plain": [
       "{'asset': 'a99c2e0e2b1da4d648755ef19bd95139acbbe6564cfb06dec7cd34931ca72cdc',\n",
       " 'extra': '',\n",
       " 'hash': 'e057fb4b044112f9ddb699128a77394f0f9f6cf39b7f9b2009c4431059143223',\n",
       " 'hex': '77770002a99c2e0e2b1da4d648755ef19bd95139acbbe6564cfb06dec7cd34931ca72cdc000100000000000000000000000000000000000000000000000000000000000000000000000077778dd50817c082cdcdd6f167514928767a4b52426997bd6d4930eca101c5ff8a27002a30786139373463373039636662343536363638363535336132303739303638356134376163656161333300423078346362353831323831663731313537303663356536663636393337313537346266646561333137333235653135656566333263643335366466306434373838620000000000000000000502540be400000000010000000502540be40000010427b4c98d89f614139f64024c862fb60b96b8831bb507572fbdc9e9da34d5174da4c1303f4dd749fdf63747df9e6037ff7412237f1342511a139d81a35abb4d0003fffe0100000000000100010000c0785ff67c651bd19b978aa44ffbb5fab0efe44fb1520d79d481f5cfe293efebd289af9200318bafbed69fe5ce164dfaff0764488d5bdd61a53f6addf4b07e07',\n",
       " 'inputs': [{'deposit': {'Chain': '8dd50817c082cdcdd6f167514928767a4b52426997bd6d4930eca101c5ff8a27',\n",
       "    'AssetKey': '0xa974c709cfb4566686553a20790685a47aceaa33',\n",
       "    'TransactionHash': '0x4cb581281f7115706c5e6f669371574bfdea317325e15eef32cd356df0d4788b',\n",
       "    'OutputIndex': 0,\n",
       "    'Amount': '100.00000000'}}],\n",
       " 'outputs': [{'amount': '100.00000000',\n",
       "   'keys': ['0427b4c98d89f614139f64024c862fb60b96b8831bb507572fbdc9e9da34d517'],\n",
       "   'mask': '4da4c1303f4dd749fdf63747df9e6037ff7412237f1342511a139d81a35abb4d',\n",
       "   'script': 'fffe01',\n",
       "   'type': 0}],\n",
       " 'snapshot': '913ef8b3b39af95943c8de88a0f17721a0b5df0bc5318779b9dd9b9d2f12fcef',\n",
       " 'version': 2}"
      ]
     },
     "execution_count": 4,
     "metadata": {},
     "output_type": "execute_result"
    }
   ],
   "source": [
    "await api.get_transaction(deposit_hash)"
   ]
  },
  {
   "cell_type": "markdown",
   "metadata": {},
   "source": [
    "# transfer"
   ]
  },
  {
   "cell_type": "code",
   "execution_count": 5,
   "metadata": {
    "scrolled": true
   },
   "outputs": [
    {
     "name": "stdout",
     "output_type": "stream",
     "text": [
      "done!\n"
     ]
    }
   ],
   "source": [
    "trx = {\n",
    "    \"asset\": 'a99c2e0e2b1da4d648755ef19bd95139acbbe6564cfb06dec7cd34931ca72cdc',\n",
    "    \"inputs\": [\n",
    "        {\n",
    "        \"hash\": deposit_hash,\n",
    "        \"index\": 0\n",
    "        }\n",
    "    ],\n",
    "    \"outputs\": [\n",
    "        {\n",
    "        \"amount\": \"51\",\n",
    "        \"accounts\": [testnet.test_account['address']],\n",
    "        \"script\": \"fffe01\",\n",
    "        \"type\": 0\n",
    "        },\n",
    "        {\n",
    "        \"amount\": \"49\",\n",
    "        \"accounts\": [testnet.test_account2['address']],\n",
    "        \"script\": \"fffe01\",\n",
    "        \"type\": 0\n",
    "        }\n",
    "    ]\n",
    "}\n",
    "\n",
    "params = {\n",
    "    \"seed\": '', #account['spend_key'],\n",
    "    \"key\": json.dumps([testnet.test_account['view_key'] + testnet.test_account['spend_key']]),\n",
    "    \"raw\": json.dumps(trx),\n",
    "    \"inputIndex\": \"0\"\n",
    "}\n",
    "r = await api.get_info()\n",
    "\n",
    "r = api.sign_transaction(params)\n",
    "transfer_ret = await api.send_transaction(r['raw'])\n",
    "print('done!')"
   ]
  },
  {
   "cell_type": "code",
   "execution_count": 9,
   "metadata": {},
   "outputs": [
    {
     "data": {
      "text/plain": [
       "{'hash': '9bdb5e908c59def087f79eda054e67a54b53b2f3add9cd6580389fb202c6025c'}"
      ]
     },
     "execution_count": 9,
     "metadata": {},
     "output_type": "execute_result"
    }
   ],
   "source": [
    "transfer_ret"
   ]
  },
  {
   "cell_type": "code",
   "execution_count": 11,
   "metadata": {
    "scrolled": true
   },
   "outputs": [
    {
     "data": {
      "text/plain": [
       "{'asset': 'a99c2e0e2b1da4d648755ef19bd95139acbbe6564cfb06dec7cd34931ca72cdc',\n",
       " 'extra': '',\n",
       " 'hash': '9bdb5e908c59def087f79eda054e67a54b53b2f3add9cd6580389fb202c6025c',\n",
       " 'hex': '77770002a99c2e0e2b1da4d648755ef19bd95139acbbe6564cfb06dec7cd34931ca72cdc0001e057fb4b044112f9ddb699128a77394f0f9f6cf39b7f9b2009c44310591432230000000000000000000200000005012ffbd3000001dc2cecfbc0d0e1f1dae1ec3be98b7276dc4e092ef47e5e1428f7c78b06d5d324104f13d46060a22a7044cd728f421c05f219a9184875f5c1af3ed1caf79b0fe10003fffe0100000000000501241011000001659489187f0d2e89d1c6e7d9d1e5393c6ff9a355aafa7dd06c582afcf7098d169920a5c861262d5b5db1c51506295e4fbfc6d8794c0d40e1686800848ae06f760003fffe010000000000010001000002475b8b100212d87cfe680a3b03ebb6839ba0f65ebbd3988af317d8991e5f5741203da3421c2dec0ee9920fa2a972195c08dae56f35890792f690ce2032be0e',\n",
       " 'inputs': [{'hash': 'e057fb4b044112f9ddb699128a77394f0f9f6cf39b7f9b2009c4431059143223',\n",
       "   'index': 0}],\n",
       " 'outputs': [{'amount': '51.00000000',\n",
       "   'keys': ['dc2cecfbc0d0e1f1dae1ec3be98b7276dc4e092ef47e5e1428f7c78b06d5d324'],\n",
       "   'mask': '104f13d46060a22a7044cd728f421c05f219a9184875f5c1af3ed1caf79b0fe1',\n",
       "   'script': 'fffe01',\n",
       "   'type': 0},\n",
       "  {'amount': '49.00000000',\n",
       "   'keys': ['659489187f0d2e89d1c6e7d9d1e5393c6ff9a355aafa7dd06c582afcf7098d16'],\n",
       "   'mask': '9920a5c861262d5b5db1c51506295e4fbfc6d8794c0d40e1686800848ae06f76',\n",
       "   'script': 'fffe01',\n",
       "   'type': 0}],\n",
       " 'snapshot': '14882914a0a64eda02dcdbf15f714e9697ab79f9c899486f2e71be593263f9b4',\n",
       " 'version': 2}"
      ]
     },
     "execution_count": 11,
     "metadata": {},
     "output_type": "execute_result"
    }
   ],
   "source": [
    "await api.get_transaction(transfer_ret['hash'])"
   ]
  },
  {
   "cell_type": "code",
   "execution_count": 12,
   "metadata": {},
   "outputs": [],
   "source": [
    "testnet.stop()"
   ]
  }
 ],
 "metadata": {
  "kernelspec": {
   "display_name": "Python 3",
   "language": "python",
   "name": "python3"
  },
  "language_info": {
   "codemirror_mode": {
    "name": "ipython",
    "version": 3
   },
   "file_extension": ".py",
   "mimetype": "text/x-python",
   "name": "python",
   "nbconvert_exporter": "python",
   "pygments_lexer": "ipython3",
   "version": "3.7.4"
  }
 },
 "nbformat": 4,
 "nbformat_minor": 2
}
