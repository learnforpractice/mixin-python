{
 "cells": [
  {
   "cell_type": "code",
   "execution_count": 4,
   "metadata": {},
   "outputs": [],
   "source": [
    "import json\n",
    "from mixin.mixin_api import MixinApi\n",
    "from mixin.testnet import MixinTestnet\n",
    "api = MixinApi('http://127.0.0.1:8001')"
   ]
  },
  {
   "cell_type": "code",
   "execution_count": 8,
   "metadata": {},
   "outputs": [],
   "source": [
    "testnet.stop()"
   ]
  },
  {
   "cell_type": "code",
   "execution_count": 9,
   "metadata": {},
   "outputs": [],
   "source": [
    "testnet = MixinTestnet()\n",
    "testnet.start()"
   ]
  },
  {
   "cell_type": "code",
   "execution_count": 10,
   "metadata": {},
   "outputs": [
    {
     "name": "stderr",
     "output_type": "stream",
     "text": [
      "2021-03-17 15:47:10,916 INFO testnet 186 deposit hash ed61513fc9aad1b26bf06d96c7fd6cc33486755961da0ca25bde54d7440152d5\n"
     ]
    }
   ],
   "source": [
    "deposit_hash = await testnet.deposit()"
   ]
  },
  {
   "cell_type": "code",
   "execution_count": 12,
   "metadata": {},
   "outputs": [
    {
     "data": {
      "text/plain": [
       "{'asset': 'a99c2e0e2b1da4d648755ef19bd95139acbbe6564cfb06dec7cd34931ca72cdc',\n",
       " 'extra': '',\n",
       " 'hash': 'ed61513fc9aad1b26bf06d96c7fd6cc33486755961da0ca25bde54d7440152d5',\n",
       " 'hex': '77770002a99c2e0e2b1da4d648755ef19bd95139acbbe6564cfb06dec7cd34931ca72cdc000100000000000000000000000000000000000000000000000000000000000000000000000077778dd50817c082cdcdd6f167514928767a4b52426997bd6d4930eca101c5ff8a27002a30786139373463373039636662343536363638363535336132303739303638356134376163656161333300423078346362353831323831663731313537303663356536663636393337313537346266646561333137333235653135656566333263643335366466306434373838620000000000000000000502540be400000000010000000502540be4000001d28826c1f3b7a2a4984014b334801bfff5ff626ecdea36ea00216e2fbd9e6792a269e2f08f2a52604d598a9059eb526295b14e868c8bdac8ab10ccbb3b5f7e240003fffe01000000000001000100004ac6ac507d63e46deec7522277b50d91319470a76b8ea86e24c1a47628184b0e5c59868347babc515ccdf8de9e382ac0697e107164fc36ab612299594b0c0d07',\n",
       " 'inputs': [{'deposit': {'Chain': '8dd50817c082cdcdd6f167514928767a4b52426997bd6d4930eca101c5ff8a27',\n",
       "    'AssetKey': '0xa974c709cfb4566686553a20790685a47aceaa33',\n",
       "    'TransactionHash': '0x4cb581281f7115706c5e6f669371574bfdea317325e15eef32cd356df0d4788b',\n",
       "    'OutputIndex': 0,\n",
       "    'Amount': '100.00000000'}}],\n",
       " 'outputs': [{'amount': '100.00000000',\n",
       "   'keys': ['d28826c1f3b7a2a4984014b334801bfff5ff626ecdea36ea00216e2fbd9e6792'],\n",
       "   'mask': 'a269e2f08f2a52604d598a9059eb526295b14e868c8bdac8ab10ccbb3b5f7e24',\n",
       "   'script': 'fffe01',\n",
       "   'type': 0}],\n",
       " 'snapshot': '17d4082f400021e99acf2635ae7d0b5c9ccb4445961a7f632d8836b320475e08',\n",
       " 'version': 2}"
      ]
     },
     "execution_count": 12,
     "metadata": {},
     "output_type": "execute_result"
    }
   ],
   "source": [
    "await api.get_transaction(deposit_hash)"
   ]
  },
  {
   "cell_type": "markdown",
   "metadata": {},
   "source": [
    "# transfer"
   ]
  },
  {
   "cell_type": "code",
   "execution_count": 15,
   "metadata": {
    "scrolled": true
   },
   "outputs": [
    {
     "name": "stdout",
     "output_type": "stream",
     "text": [
      "done!\n"
     ]
    }
   ],
   "source": [
    "trx = {\n",
    "    \"asset\": 'a99c2e0e2b1da4d648755ef19bd95139acbbe6564cfb06dec7cd34931ca72cdc',\n",
    "    \"inputs\": [\n",
    "        {\n",
    "        \"hash\": deposit_hash,\n",
    "        \"index\": 0\n",
    "        }\n",
    "    ],\n",
    "    \"outputs\": [\n",
    "        {\n",
    "        \"amount\": \"51\",\n",
    "        \"accounts\": [testnet.test_account['address']],\n",
    "        \"script\": \"fffe01\",\n",
    "        \"type\": 0\n",
    "        },\n",
    "        {\n",
    "        \"amount\": \"49\",\n",
    "        \"accounts\": [testnet.test_account2['address']],\n",
    "        \"script\": \"fffe01\",\n",
    "        \"type\": 0\n",
    "        }\n",
    "    ]\n",
    "}\n",
    "\n",
    "params = {\n",
    "    \"seed\": '', #account['spend_key'],\n",
    "    \"key\": json.dumps([testnet.test_account['view_key'] + testnet.test_account['spend_key']]),\n",
    "    \"raw\": json.dumps(trx),\n",
    "    \"inputIndex\": \"0\"\n",
    "}\n",
    "r = await api.get_info()\n",
    "\n",
    "r = api.sign_transaction(params)\n",
    "transfer_ret = await api.send_transaction(r['raw'])\n",
    "print('done!')"
   ]
  },
  {
   "cell_type": "code",
   "execution_count": 16,
   "metadata": {},
   "outputs": [
    {
     "data": {
      "text/plain": [
       "{'hash': '5d0a906687de4f02bfbdfab623517ee4b991d7ec143734b4f009dff8f319e61d'}"
      ]
     },
     "execution_count": 16,
     "metadata": {},
     "output_type": "execute_result"
    }
   ],
   "source": [
    "transfer_ret"
   ]
  },
  {
   "cell_type": "code",
   "execution_count": 17,
   "metadata": {
    "scrolled": true
   },
   "outputs": [
    {
     "data": {
      "text/plain": [
       "{'asset': 'a99c2e0e2b1da4d648755ef19bd95139acbbe6564cfb06dec7cd34931ca72cdc',\n",
       " 'extra': '',\n",
       " 'hash': '5d0a906687de4f02bfbdfab623517ee4b991d7ec143734b4f009dff8f319e61d',\n",
       " 'hex': '77770002a99c2e0e2b1da4d648755ef19bd95139acbbe6564cfb06dec7cd34931ca72cdc0001ed61513fc9aad1b26bf06d96c7fd6cc33486755961da0ca25bde54d7440152d50000000000000000000200000005012ffbd30000011a1aac5f6b48cc29081669792224c5cc505c69aa0ce939769aeec55237e76e77a385eca5e61afae4fc66bca59acf4e0d355b5707c21699dc54823f0fdd39a4a90003fffe0100000000000501241011000001f4389ed674ede837a6c80dc281db0d69c9b8db68b29b3d9242768fb0b75f2a780602d1d9bb6a33ab727e50c5b450b84ce1d6b3f3923288cade3deacfe1d8fb5a0003fffe01000000000001000100001a378f206dbb48d3dfd9197e75fb0ebbf2de9461934cc989ee8bb770a8f23694700f8985269f032f0bb01f283e3132b80f2cd4fc399fd36e35cbc70fef86070d',\n",
       " 'inputs': [{'hash': 'ed61513fc9aad1b26bf06d96c7fd6cc33486755961da0ca25bde54d7440152d5',\n",
       "   'index': 0}],\n",
       " 'outputs': [{'amount': '51.00000000',\n",
       "   'keys': ['1a1aac5f6b48cc29081669792224c5cc505c69aa0ce939769aeec55237e76e77'],\n",
       "   'mask': 'a385eca5e61afae4fc66bca59acf4e0d355b5707c21699dc54823f0fdd39a4a9',\n",
       "   'script': 'fffe01',\n",
       "   'type': 0},\n",
       "  {'amount': '49.00000000',\n",
       "   'keys': ['f4389ed674ede837a6c80dc281db0d69c9b8db68b29b3d9242768fb0b75f2a78'],\n",
       "   'mask': '0602d1d9bb6a33ab727e50c5b450b84ce1d6b3f3923288cade3deacfe1d8fb5a',\n",
       "   'script': 'fffe01',\n",
       "   'type': 0}],\n",
       " 'snapshot': '5c2c2bf2d76671b5d448f33945de60ad424aef0c674857a75b29c040d3bbedbb',\n",
       " 'version': 2}"
      ]
     },
     "execution_count": 17,
     "metadata": {},
     "output_type": "execute_result"
    }
   ],
   "source": [
    "await api.get_transaction('5d0a906687de4f02bfbdfab623517ee4b991d7ec143734b4f009dff8f319e61d')"
   ]
  },
  {
   "cell_type": "code",
   "execution_count": 18,
   "metadata": {},
   "outputs": [],
   "source": [
    "testnet.stop()"
   ]
  }
 ],
 "metadata": {
  "kernelspec": {
   "display_name": "Python 3",
   "language": "python",
   "name": "python3"
  },
  "language_info": {
   "codemirror_mode": {
    "name": "ipython",
    "version": 3
   },
   "file_extension": ".py",
   "mimetype": "text/x-python",
   "name": "python",
   "nbconvert_exporter": "python",
   "pygments_lexer": "ipython3",
   "version": "3.7.4"
  }
 },
 "nbformat": 4,
 "nbformat_minor": 2
}
