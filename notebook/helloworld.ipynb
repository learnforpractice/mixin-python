{
 "cells": [
  {
   "cell_type": "code",
   "execution_count": 1,
   "metadata": {},
   "outputs": [],
   "source": [
    "import json\n",
    "from pymixin.mixin_api import MixinApi\n",
    "from pymixin.testnet import MixinTestnet\n",
    "api = MixinApi('http://127.0.0.1:8001')"
   ]
  },
  {
   "cell_type": "code",
   "execution_count": 2,
   "metadata": {},
   "outputs": [],
   "source": [
    "testnet = MixinTestnet()\n",
    "testnet.start()"
   ]
  },
  {
   "cell_type": "code",
   "execution_count": 3,
   "metadata": {},
   "outputs": [
    {
     "name": "stderr",
     "output_type": "stream",
     "text": [
      "2021-03-22 12:26:18,278 INFO testnet 182 deposit hash a14651804a5ce4b7fc904d74da1fe9927d7e9239c40ed8cddecd0101aadc9dcc\n"
     ]
    }
   ],
   "source": [
    "deposit_hash = await testnet.deposit()"
   ]
  },
  {
   "cell_type": "code",
   "execution_count": 4,
   "metadata": {},
   "outputs": [
    {
     "data": {
      "text/plain": [
       "{'asset': 'a99c2e0e2b1da4d648755ef19bd95139acbbe6564cfb06dec7cd34931ca72cdc',\n",
       " 'extra': '',\n",
       " 'hash': 'a14651804a5ce4b7fc904d74da1fe9927d7e9239c40ed8cddecd0101aadc9dcc',\n",
       " 'hex': '77770002a99c2e0e2b1da4d648755ef19bd95139acbbe6564cfb06dec7cd34931ca72cdc000100000000000000000000000000000000000000000000000000000000000000000000000077778dd50817c082cdcdd6f167514928767a4b52426997bd6d4930eca101c5ff8a27002a30786139373463373039636662343536363638363535336132303739303638356134376163656161333300423078346362353831323831663731313537303663356536663636393337313537346266646561333137333235653135656566333263643335366466306434373838620000000000000000000502540be400000000010000000502540be40000019145059b13bc729316f87f4fd7773db4b6162b44ecfe849e61a53a636c06d1281a20c806f3369c8026c5fdf90b7d5d8f46a8f36d233a33236ebd13451a7d22720003fffe0100000000000100010000160e8f8df5b907eb318ed2909221f3991751326a788aadebefb44a818f38c344e8b507da6af49a67729bb15163c094cc24983095431320f0e62f4ddf861d090b',\n",
       " 'inputs': [{'deposit': {'Chain': '8dd50817c082cdcdd6f167514928767a4b52426997bd6d4930eca101c5ff8a27',\n",
       "    'AssetKey': '0xa974c709cfb4566686553a20790685a47aceaa33',\n",
       "    'TransactionHash': '0x4cb581281f7115706c5e6f669371574bfdea317325e15eef32cd356df0d4788b',\n",
       "    'OutputIndex': 0,\n",
       "    'Amount': '100.00000000'}}],\n",
       " 'outputs': [{'amount': '100.00000000',\n",
       "   'keys': ['9145059b13bc729316f87f4fd7773db4b6162b44ecfe849e61a53a636c06d128'],\n",
       "   'mask': '1a20c806f3369c8026c5fdf90b7d5d8f46a8f36d233a33236ebd13451a7d2272',\n",
       "   'script': 'fffe01',\n",
       "   'type': 0}],\n",
       " 'snapshot': '832bcd0fbc421eb28fa8569416876c6dd867427798a56894dad44fb593204d72',\n",
       " 'version': 2}"
      ]
     },
     "execution_count": 4,
     "metadata": {},
     "output_type": "execute_result"
    }
   ],
   "source": [
    "await api.get_transaction(deposit_hash)"
   ]
  },
  {
   "cell_type": "markdown",
   "metadata": {},
   "source": [
    "# transfer"
   ]
  },
  {
   "cell_type": "code",
   "execution_count": 9,
   "metadata": {
    "scrolled": true
   },
   "outputs": [
    {
     "name": "stdout",
     "output_type": "stream",
     "text": [
      "done!\n"
     ]
    }
   ],
   "source": [
    "trx = {\n",
    "    \"asset\": 'a99c2e0e2b1da4d648755ef19bd95139acbbe6564cfb06dec7cd34931ca72cdc',\n",
    "    \"inputs\": [\n",
    "        {\n",
    "        \"hash\": deposit_hash,\n",
    "        \"index\": 0\n",
    "        }\n",
    "    ],\n",
    "    \"outputs\": [\n",
    "        {\n",
    "        \"amount\": \"51\",\n",
    "        \"accounts\": [testnet.test_account['address']],\n",
    "        \"script\": \"fffe01\",\n",
    "        \"type\": 0\n",
    "        },\n",
    "        {\n",
    "        \"amount\": \"49\",\n",
    "        \"accounts\": [testnet.test_account2['address']],\n",
    "        \"script\": \"fffe01\",\n",
    "        \"type\": 0\n",
    "        }\n",
    "    ]\n",
    "}\n",
    "\n",
    "params = {\n",
    "    \"seed\": '', #account['spend_key'],\n",
    "    \"key\": [testnet.test_account['view_key'] + testnet.test_account['spend_key']],\n",
    "    \"raw\": trx,\n",
    "    \"inputIndex\": \"0\"\n",
    "}\n",
    "r = await api.get_info()\n",
    "\n",
    "transfer_ret = await api.send_transaction(trx, [testnet.test_account])\n",
    "print('done!')"
   ]
  },
  {
   "cell_type": "code",
   "execution_count": 10,
   "metadata": {},
   "outputs": [
    {
     "data": {
      "text/plain": [
       "{'hash': '32509fd2ac63d3ab7580b66c9d45f1fed166ace0c65daa447b7eddf143081ee0'}"
      ]
     },
     "execution_count": 10,
     "metadata": {},
     "output_type": "execute_result"
    }
   ],
   "source": [
    "transfer_ret"
   ]
  },
  {
   "cell_type": "code",
   "execution_count": 11,
   "metadata": {
    "scrolled": true
   },
   "outputs": [
    {
     "data": {
      "text/plain": [
       "{'asset': 'a99c2e0e2b1da4d648755ef19bd95139acbbe6564cfb06dec7cd34931ca72cdc',\n",
       " 'extra': '',\n",
       " 'hash': '32509fd2ac63d3ab7580b66c9d45f1fed166ace0c65daa447b7eddf143081ee0',\n",
       " 'hex': '77770002a99c2e0e2b1da4d648755ef19bd95139acbbe6564cfb06dec7cd34931ca72cdc0001a14651804a5ce4b7fc904d74da1fe9927d7e9239c40ed8cddecd0101aadc9dcc0000000000000000000200000005012ffbd3000001e5690ac05e93559489886d03cac73833993cb0bd521c787eb8e6a30d36643a4fc8701db113da5827d7e44b65d6cd5372de063b8892f338ae459a557c5a875c460003fffe010000000000050124101100000168bdcd322d08a0843747a655ba4082353557f5db48fc2025dbfdefab45295de9ebb898b8b8a7274c714250f53424f8f676decf9b5c0c402f5f4c1b58cd70fb440003fffe010000000000010001000044562dbbbeb4df7c149aa6dbe8e8b96c10f28618ca24fa9b99b530b016bc53e836d1d3cd1409083c6f3da271dcb31e48deadd2e0ec8592f2c640f6412719230a',\n",
       " 'inputs': [{'hash': 'a14651804a5ce4b7fc904d74da1fe9927d7e9239c40ed8cddecd0101aadc9dcc',\n",
       "   'index': 0}],\n",
       " 'outputs': [{'amount': '51.00000000',\n",
       "   'keys': ['e5690ac05e93559489886d03cac73833993cb0bd521c787eb8e6a30d36643a4f'],\n",
       "   'mask': 'c8701db113da5827d7e44b65d6cd5372de063b8892f338ae459a557c5a875c46',\n",
       "   'script': 'fffe01',\n",
       "   'type': 0},\n",
       "  {'amount': '49.00000000',\n",
       "   'keys': ['68bdcd322d08a0843747a655ba4082353557f5db48fc2025dbfdefab45295de9'],\n",
       "   'mask': 'ebb898b8b8a7274c714250f53424f8f676decf9b5c0c402f5f4c1b58cd70fb44',\n",
       "   'script': 'fffe01',\n",
       "   'type': 0}],\n",
       " 'snapshot': '85a1fb5c77f5d5f90e33b2d744c0ee8f49f3157e5ae9c7224520fad08cacdd6a',\n",
       " 'version': 2}"
      ]
     },
     "execution_count": 11,
     "metadata": {},
     "output_type": "execute_result"
    }
   ],
   "source": [
    "await api.get_transaction(transfer_ret['hash'])"
   ]
  },
  {
   "cell_type": "code",
   "execution_count": 12,
   "metadata": {},
   "outputs": [],
   "source": [
    "testnet.stop()"
   ]
  }
 ],
 "metadata": {
  "kernelspec": {
   "display_name": "Python 3",
   "language": "python",
   "name": "python3"
  },
  "language_info": {
   "codemirror_mode": {
    "name": "ipython",
    "version": 3
   },
   "file_extension": ".py",
   "mimetype": "text/x-python",
   "name": "python",
   "nbconvert_exporter": "python",
   "pygments_lexer": "ipython3",
   "version": "3.7.4"
  }
 },
 "nbformat": 4,
 "nbformat_minor": 2
}
