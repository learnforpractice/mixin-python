{
 "cells": [
  {
   "cell_type": "code",
   "execution_count": 5,
   "metadata": {},
   "outputs": [
    {
     "data": {
      "text/plain": [
       "{'address': 'XINQfG7oEYxNZwHm6KFP4yaKX7sAeAWTPScztuX9Sb1hf5ZGidRDB5LKMBs2udMZWD265ppi4fvs32q8Rgci3nFmYW9BrhHw',\n",
       " 'view_key': '9d53ba7c1c4727d96aee89a508bb72c183b4a027d39fc5df941fd9347422dc03',\n",
       " 'spend_key': '0d029b5c3be12581c2f3b6ceec180599e9c685addb2bafc00cdcd6ffad587803'}"
      ]
     },
     "execution_count": 5,
     "metadata": {},
     "output_type": "execute_result"
    }
   ],
   "source": [
    "import json\n",
    "from mixin.mixin_api import MixinApi\n",
    "api = MixinApi('http://mixin-node0.exinpool.com:8239')\n",
    "api.create_address()"
   ]
  },
  {
   "cell_type": "code",
   "execution_count": null,
   "metadata": {},
   "outputs": [],
   "source": [
    "account = {\n",
    "    'address': 'XIN2g6odLA98fVFMeT2KqCUGivuEmBNu8xCZzjGfWPZ6ddbNNkSiU39M7Bqwvk71JKVTtszoCewAjg7febBC3bHK7ZEAZPiD',\n",
    "    'view_key': '981fa591217e63c43b94e84edc6fb698a0d65a95b9ae22df99356e40c5f1260f',\n",
    "    'spend_key': '72b37c307e8c7e223f1bde2ca351f36a94e304c2d23032a193cfcb7e294d3600'\n",
    "}\n",
    "trx = {\n",
    "    \"inputs\": [\n",
    "        {\n",
    "            \"hash\": 'e26f9dd1afc7dd5a216019f27f369a7123ade2c20b7ea07602b218e281ba93e4',\n",
    "            \"index\": 0,\n",
    "        }\n",
    "    ],\n",
    "    \"Outputs\":[\n",
    "        {\n",
    "            \"type\": 0,\n",
    "            \"amount\": \"0.1\",\n",
    "            \"script\": 'fffe01',\n",
    "            \"accounts\": ['XINFrqT5x74BVvtgLJEVhRhFc1GdJ3vmwiu7zJHVg7qjYvzx9wG7j1sENkXV7NfN9tQm1SsRNces7tcrxFas9nkr5H1B7HTm']\n",
    "        },\n",
    "    ],\n",
    "    \"asset\": \"b9f49cf777dc4d03bc54cd1367eebca319f8603ea1ce18910d09e2c540c630d8\",\n",
    "    \"extra\": b\"helloworld\".hex(),\n",
    "}\n",
    "params = {\n",
    "    \"node\": 'http://34.82.92.203:8239',\n",
    "    \"seed\": '',\n",
    "    \"key\": json.dumps([account['view_key'] + account['spend_key']]),\n",
    "    \"raw\": json.dumps(trx),\n",
    "    \"inputIndex\": \"0\"\n",
    "}\n",
    "await api.sign_transaction(params)\n"
   ]
  },
  {
   "cell_type": "code",
   "execution_count": 3,
   "metadata": {},
   "outputs": [
    {
     "data": {
      "text/plain": [
       "{'data': {'asset': 'b9f49cf777dc4d03bc54cd1367eebca319f8603ea1ce18910d09e2c540c630d8',\n",
       "  'extra': '68656c6c6f776f726c64',\n",
       "  'hash': '28416305558388eed2cc12d0a6fe32201371f631d86751736f591120d3d2b07e',\n",
       "  'hex': '77770002b9f49cf777dc4d03bc54cd1367eebca319f8603ea1ce18910d09e2c540c630d800010a121a7d64e2d01c6efb4cf23734655b2cb1cf65b54eaa330ad6da643875e93800000000000000000001000000039896800002309fffcc4ce7d535c5896412b28eb899c1cf938606940a824521275966e277d5f2413802b56838a3745d4cb1f7421d5e23f61262fc02efbc0904e607a5f4ca8fd18d7950bbbcfe9985a801d42d0826f64d809da999aea89ef3682357a689fca50003fffe020000000a68656c6c6f776f726c640001000100006f0f1b7b4280e1aa363cdc044da4634e31b543475f933c9e781998f1816370c2999ead77871f08f31d278edac934f02a9a8997ee8b0628ce3b2b9d28e82d390c',\n",
       "  'inputs': [{'hash': '0a121a7d64e2d01c6efb4cf23734655b2cb1cf65b54eaa330ad6da643875e938',\n",
       "    'index': 0}],\n",
       "  'outputs': [{'amount': '0.10000000',\n",
       "    'keys': ['309fffcc4ce7d535c5896412b28eb899c1cf938606940a824521275966e277d5',\n",
       "     'f2413802b56838a3745d4cb1f7421d5e23f61262fc02efbc0904e607a5f4ca8f'],\n",
       "    'mask': 'd18d7950bbbcfe9985a801d42d0826f64d809da999aea89ef3682357a689fca5',\n",
       "    'script': 'fffe02',\n",
       "    'type': 0}],\n",
       "  'snapshot': 'ffddc24082b78f0b1905f791a55eb3a4f0664ec90f90c83fcb7b9d8ee9621494',\n",
       "  'version': 2}}"
      ]
     },
     "execution_count": 3,
     "metadata": {},
     "output_type": "execute_result"
    }
   ],
   "source": [
    "await api.get_transaction('28416305558388eed2cc12d0a6fe32201371f631d86751736f591120d3d2b07e')"
   ]
  }
 ],
 "metadata": {
  "kernelspec": {
   "display_name": "Python 3",
   "language": "python",
   "name": "python3"
  },
  "language_info": {
   "codemirror_mode": {
    "name": "ipython",
    "version": 3
   },
   "file_extension": ".py",
   "mimetype": "text/x-python",
   "name": "python",
   "nbconvert_exporter": "python",
   "pygments_lexer": "ipython3",
   "version": "3.7.4"
  }
 },
 "nbformat": 4,
 "nbformat_minor": 2
}
