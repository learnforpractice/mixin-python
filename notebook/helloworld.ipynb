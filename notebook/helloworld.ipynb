{
 "cells": [
  {
   "cell_type": "code",
   "execution_count": 1,
   "metadata": {},
   "outputs": [
    {
     "data": {
      "text/plain": [
       "{'address': 'XINRcJqZUfFwZriQ4ySgRw86iXDNUUSmQx235guzkfM5gMqW5vynUCmhF646d67aYwSEfSj7DUVLCuF9dRECzHah1AP96hCm',\n",
       " 'view_key': '55a63ab90c2b2938a654a878b57de722201599ab10dd96eba44c40dc2109ac03',\n",
       " 'spend_key': 'cb19a0a9d74f7ce624ab977e2e28864e4374fa14fbb519f5eb2711a81ddb7d08'}"
      ]
     },
     "execution_count": 1,
     "metadata": {},
     "output_type": "execute_result"
    }
   ],
   "source": [
    "from mixin.mixin_api import MixinApi\n",
    "api = MixinApi('http://mixin-node0.exinpool.com:8239')\n",
    "api.create_address()"
   ]
  },
  {
   "cell_type": "code",
   "execution_count": null,
   "metadata": {},
   "outputs": [],
   "source": []
  }
 ],
 "metadata": {
  "kernelspec": {
   "display_name": "Python 3",
   "language": "python",
   "name": "python3"
  },
  "language_info": {
   "codemirror_mode": {
    "name": "ipython",
    "version": 3
   },
   "file_extension": ".py",
   "mimetype": "text/x-python",
   "name": "python",
   "nbconvert_exporter": "python",
   "pygments_lexer": "ipython3",
   "version": "3.7.4"
  }
 },
 "nbformat": 4,
 "nbformat_minor": 2
}
